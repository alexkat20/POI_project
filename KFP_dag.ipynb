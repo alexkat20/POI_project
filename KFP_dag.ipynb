{
 "cells": [
  {
   "cell_type": "code",
   "execution_count": 1,
   "id": "67a2b037-7d53-49d1-9a4c-0772dbcda4d0",
   "metadata": {
    "collapsed": true,
    "jupyter": {
     "outputs_hidden": true
    }
   },
   "outputs": [
    {
     "name": "stdout",
     "output_type": "stream",
     "text": [
      "Requirement already satisfied: kfp==1.8.22 in c:\\users\\akatynsus\\pycharmprojects\\poi_project\\venv\\lib\\site-packages (1.8.22)\n",
      "Requirement already satisfied: strip-hints<1,>=0.1.8 in c:\\users\\akatynsus\\pycharmprojects\\poi_project\\venv\\lib\\site-packages (from kfp==1.8.22) (0.1.10)\n",
      "Requirement already satisfied: protobuf<4,>=3.13.0 in c:\\users\\akatynsus\\pycharmprojects\\poi_project\\venv\\lib\\site-packages (from kfp==1.8.22) (3.20.3)\n",
      "Requirement already satisfied: fire<1,>=0.3.1 in c:\\users\\akatynsus\\pycharmprojects\\poi_project\\venv\\lib\\site-packages (from kfp==1.8.22) (0.5.0)\n",
      "Requirement already satisfied: Deprecated<2,>=1.2.7 in c:\\users\\akatynsus\\pycharmprojects\\poi_project\\venv\\lib\\site-packages (from kfp==1.8.22) (1.2.14)\n",
      "Requirement already satisfied: google-cloud-storage<3,>=1.20.0 in c:\\users\\akatynsus\\pycharmprojects\\poi_project\\venv\\lib\\site-packages (from kfp==1.8.22) (2.10.0)\n",
      "Requirement already satisfied: docstring-parser<1,>=0.7.3 in c:\\users\\akatynsus\\pycharmprojects\\poi_project\\venv\\lib\\site-packages (from kfp==1.8.22) (0.15)\n",
      "Requirement already satisfied: uritemplate<4,>=3.0.1 in c:\\users\\akatynsus\\pycharmprojects\\poi_project\\venv\\lib\\site-packages (from kfp==1.8.22) (3.0.1)\n",
      "Requirement already satisfied: cloudpickle<3,>=2.0.0 in c:\\users\\akatynsus\\pycharmprojects\\poi_project\\venv\\lib\\site-packages (from kfp==1.8.22) (2.2.1)\n",
      "Requirement already satisfied: google-auth<3,>=1.6.1 in c:\\users\\akatynsus\\pycharmprojects\\poi_project\\venv\\lib\\site-packages (from kfp==1.8.22) (2.23.0)\n",
      "Requirement already satisfied: jsonschema<5,>=3.0.1 in c:\\users\\akatynsus\\pycharmprojects\\poi_project\\venv\\lib\\site-packages (from kfp==1.8.22) (4.19.0)\n",
      "Requirement already satisfied: kfp-pipeline-spec<0.2.0,>=0.1.16 in c:\\users\\akatynsus\\pycharmprojects\\poi_project\\venv\\lib\\site-packages (from kfp==1.8.22) (0.1.16)\n",
      "Requirement already satisfied: tabulate<1,>=0.8.6 in c:\\users\\akatynsus\\pycharmprojects\\poi_project\\venv\\lib\\site-packages (from kfp==1.8.22) (0.9.0)\n",
      "Requirement already satisfied: absl-py<2,>=0.9 in c:\\users\\akatynsus\\pycharmprojects\\poi_project\\venv\\lib\\site-packages (from kfp==1.8.22) (1.4.0)\n",
      "Requirement already satisfied: google-api-python-client<2,>=1.7.8 in c:\\users\\akatynsus\\pycharmprojects\\poi_project\\venv\\lib\\site-packages (from kfp==1.8.22) (1.12.11)\n",
      "Requirement already satisfied: kubernetes<26,>=8.0.0 in c:\\users\\akatynsus\\pycharmprojects\\poi_project\\venv\\lib\\site-packages (from kfp==1.8.22) (25.3.0)\n",
      "Requirement already satisfied: click<9,>=7.1.2 in c:\\users\\akatynsus\\pycharmprojects\\poi_project\\venv\\lib\\site-packages (from kfp==1.8.22) (8.1.7)\n",
      "Requirement already satisfied: typer<1.0,>=0.3.2 in c:\\users\\akatynsus\\pycharmprojects\\poi_project\\venv\\lib\\site-packages (from kfp==1.8.22) (0.9.0)\n",
      "Requirement already satisfied: requests-toolbelt<1,>=0.8.0 in c:\\users\\akatynsus\\pycharmprojects\\poi_project\\venv\\lib\\site-packages (from kfp==1.8.22) (0.10.1)\n",
      "Requirement already satisfied: pydantic<2,>=1.8.2 in c:\\users\\akatynsus\\pycharmprojects\\poi_project\\venv\\lib\\site-packages (from kfp==1.8.22) (1.10.12)\n",
      "Requirement already satisfied: kfp-server-api<2.0.0,>=1.1.2 in c:\\users\\akatynsus\\pycharmprojects\\poi_project\\venv\\lib\\site-packages (from kfp==1.8.22) (1.8.5)\n",
      "Requirement already satisfied: PyYAML<7,>=5.3 in c:\\users\\akatynsus\\pycharmprojects\\poi_project\\venv\\lib\\site-packages (from kfp==1.8.22) (6.0.1)\n",
      "Requirement already satisfied: google-api-core!=2.0.*,!=2.1.*,!=2.2.*,!=2.3.0,<3.0.0dev,>=1.31.5 in c:\\users\\akatynsus\\pycharmprojects\\poi_project\\venv\\lib\\site-packages (from kfp==1.8.22) (2.11.1)\n",
      "Requirement already satisfied: urllib3<2 in c:\\users\\akatynsus\\pycharmprojects\\poi_project\\venv\\lib\\site-packages (from kfp==1.8.22) (1.26.16)\n",
      "Requirement already satisfied: colorama in c:\\users\\akatynsus\\pycharmprojects\\poi_project\\venv\\lib\\site-packages (from click<9,>=7.1.2->kfp==1.8.22) (0.4.6)\n",
      "Requirement already satisfied: wrapt<2,>=1.10 in c:\\users\\akatynsus\\pycharmprojects\\poi_project\\venv\\lib\\site-packages (from Deprecated<2,>=1.2.7->kfp==1.8.22) (1.15.0)\n",
      "Requirement already satisfied: six in c:\\users\\akatynsus\\pycharmprojects\\poi_project\\venv\\lib\\site-packages (from fire<1,>=0.3.1->kfp==1.8.22) (1.16.0)\n",
      "Requirement already satisfied: termcolor in c:\\users\\akatynsus\\pycharmprojects\\poi_project\\venv\\lib\\site-packages (from fire<1,>=0.3.1->kfp==1.8.22) (2.3.0)\n",
      "Requirement already satisfied: googleapis-common-protos<2.0.dev0,>=1.56.2 in c:\\users\\akatynsus\\pycharmprojects\\poi_project\\venv\\lib\\site-packages (from google-api-core!=2.0.*,!=2.1.*,!=2.2.*,!=2.3.0,<3.0.0dev,>=1.31.5->kfp==1.8.22) (1.60.0)\n",
      "Requirement already satisfied: requests<3.0.0.dev0,>=2.18.0 in c:\\users\\akatynsus\\pycharmprojects\\poi_project\\venv\\lib\\site-packages (from google-api-core!=2.0.*,!=2.1.*,!=2.2.*,!=2.3.0,<3.0.0dev,>=1.31.5->kfp==1.8.22) (2.31.0)\n",
      "Requirement already satisfied: google-auth-httplib2>=0.0.3 in c:\\users\\akatynsus\\pycharmprojects\\poi_project\\venv\\lib\\site-packages (from google-api-python-client<2,>=1.7.8->kfp==1.8.22) (0.1.1)\n",
      "Requirement already satisfied: httplib2<1dev,>=0.15.0 in c:\\users\\akatynsus\\pycharmprojects\\poi_project\\venv\\lib\\site-packages (from google-api-python-client<2,>=1.7.8->kfp==1.8.22) (0.22.0)\n",
      "Requirement already satisfied: pyasn1-modules>=0.2.1 in c:\\users\\akatynsus\\pycharmprojects\\poi_project\\venv\\lib\\site-packages (from google-auth<3,>=1.6.1->kfp==1.8.22) (0.3.0)\n",
      "Requirement already satisfied: rsa<5,>=3.1.4 in c:\\users\\akatynsus\\pycharmprojects\\poi_project\\venv\\lib\\site-packages (from google-auth<3,>=1.6.1->kfp==1.8.22) (4.9)\n",
      "Requirement already satisfied: cachetools<6.0,>=2.0.0 in c:\\users\\akatynsus\\pycharmprojects\\poi_project\\venv\\lib\\site-packages (from google-auth<3,>=1.6.1->kfp==1.8.22) (5.3.1)\n",
      "Requirement already satisfied: google-cloud-core<3.0dev,>=2.3.0 in c:\\users\\akatynsus\\pycharmprojects\\poi_project\\venv\\lib\\site-packages (from google-cloud-storage<3,>=1.20.0->kfp==1.8.22) (2.3.3)\n",
      "Requirement already satisfied: google-resumable-media>=2.3.2 in c:\\users\\akatynsus\\pycharmprojects\\poi_project\\venv\\lib\\site-packages (from google-cloud-storage<3,>=1.20.0->kfp==1.8.22) (2.6.0)\n",
      "Requirement already satisfied: rpds-py>=0.7.1 in c:\\users\\akatynsus\\pycharmprojects\\poi_project\\venv\\lib\\site-packages (from jsonschema<5,>=3.0.1->kfp==1.8.22) (0.10.3)\n",
      "Requirement already satisfied: referencing>=0.28.4 in c:\\users\\akatynsus\\pycharmprojects\\poi_project\\venv\\lib\\site-packages (from jsonschema<5,>=3.0.1->kfp==1.8.22) (0.30.2)\n",
      "Requirement already satisfied: attrs>=22.2.0 in c:\\users\\akatynsus\\pycharmprojects\\poi_project\\venv\\lib\\site-packages (from jsonschema<5,>=3.0.1->kfp==1.8.22) (23.1.0)\n",
      "Requirement already satisfied: jsonschema-specifications>=2023.03.6 in c:\\users\\akatynsus\\pycharmprojects\\poi_project\\venv\\lib\\site-packages (from jsonschema<5,>=3.0.1->kfp==1.8.22) (2023.7.1)\n",
      "Requirement already satisfied: certifi in c:\\users\\akatynsus\\pycharmprojects\\poi_project\\venv\\lib\\site-packages (from kfp-server-api<2.0.0,>=1.1.2->kfp==1.8.22) (2023.7.22)\n",
      "Requirement already satisfied: python-dateutil in c:\\users\\akatynsus\\pycharmprojects\\poi_project\\venv\\lib\\site-packages (from kfp-server-api<2.0.0,>=1.1.2->kfp==1.8.22) (2.8.2)\n",
      "Requirement already satisfied: websocket-client!=0.40.0,!=0.41.*,!=0.42.*,>=0.32.0 in c:\\users\\akatynsus\\pycharmprojects\\poi_project\\venv\\lib\\site-packages (from kubernetes<26,>=8.0.0->kfp==1.8.22) (1.6.3)\n",
      "Requirement already satisfied: requests-oauthlib in c:\\users\\akatynsus\\pycharmprojects\\poi_project\\venv\\lib\\site-packages (from kubernetes<26,>=8.0.0->kfp==1.8.22) (1.3.1)\n",
      "Requirement already satisfied: setuptools>=21.0.0 in c:\\users\\akatynsus\\pycharmprojects\\poi_project\\venv\\lib\\site-packages (from kubernetes<26,>=8.0.0->kfp==1.8.22) (65.5.1)\n",
      "Requirement already satisfied: typing-extensions>=4.2.0 in c:\\users\\akatynsus\\pycharmprojects\\poi_project\\venv\\lib\\site-packages (from pydantic<2,>=1.8.2->kfp==1.8.22) (4.8.0)\n",
      "Requirement already satisfied: wheel in c:\\users\\akatynsus\\pycharmprojects\\poi_project\\venv\\lib\\site-packages (from strip-hints<1,>=0.1.8->kfp==1.8.22) (0.38.4)\n",
      "Requirement already satisfied: google-crc32c<2.0dev,>=1.0 in c:\\users\\akatynsus\\pycharmprojects\\poi_project\\venv\\lib\\site-packages (from google-resumable-media>=2.3.2->google-cloud-storage<3,>=1.20.0->kfp==1.8.22) (1.5.0)\n",
      "Requirement already satisfied: pyparsing!=3.0.0,!=3.0.1,!=3.0.2,!=3.0.3,<4,>=2.4.2 in c:\\users\\akatynsus\\pycharmprojects\\poi_project\\venv\\lib\\site-packages (from httplib2<1dev,>=0.15.0->google-api-python-client<2,>=1.7.8->kfp==1.8.22) (3.1.1)\n",
      "Requirement already satisfied: pyasn1<0.6.0,>=0.4.6 in c:\\users\\akatynsus\\pycharmprojects\\poi_project\\venv\\lib\\site-packages (from pyasn1-modules>=0.2.1->google-auth<3,>=1.6.1->kfp==1.8.22) (0.5.0)\n",
      "Requirement already satisfied: idna<4,>=2.5 in c:\\users\\akatynsus\\pycharmprojects\\poi_project\\venv\\lib\\site-packages (from requests<3.0.0.dev0,>=2.18.0->google-api-core!=2.0.*,!=2.1.*,!=2.2.*,!=2.3.0,<3.0.0dev,>=1.31.5->kfp==1.8.22) (3.4)\n",
      "Requirement already satisfied: charset-normalizer<4,>=2 in c:\\users\\akatynsus\\pycharmprojects\\poi_project\\venv\\lib\\site-packages (from requests<3.0.0.dev0,>=2.18.0->google-api-core!=2.0.*,!=2.1.*,!=2.2.*,!=2.3.0,<3.0.0dev,>=1.31.5->kfp==1.8.22) (3.2.0)\n",
      "Requirement already satisfied: oauthlib>=3.0.0 in c:\\users\\akatynsus\\pycharmprojects\\poi_project\\venv\\lib\\site-packages (from requests-oauthlib->kubernetes<26,>=8.0.0->kfp==1.8.22) (3.2.2)\n"
     ]
    },
    {
     "name": "stderr",
     "output_type": "stream",
     "text": [
      "\n",
      "[notice] A new release of pip available: 22.3.1 -> 23.2.1\n",
      "[notice] To update, run: python.exe -m pip install --upgrade pip\n"
     ]
    }
   ],
   "source": [
    "!pip install kfp==1.8.22"
   ]
  },
  {
   "cell_type": "code",
   "execution_count": 11,
   "id": "23d586ea-e353-4f65-9d0e-99bc5067ff74",
   "metadata": {},
   "outputs": [],
   "source": [
    "import kfp\n",
    "\n",
    "\n",
    "client = kfp.Client(host=\"http://localhost:53462\")"
   ]
  },
  {
   "cell_type": "code",
   "execution_count": 12,
   "id": "23f8f24b-0bee-475a-9986-f9a8b51d80b1",
   "metadata": {},
   "outputs": [
    {
     "data": {
      "text/plain": [
       "{'experiments': [{'created_at': datetime.datetime(2023, 9, 9, 10, 52, 34, tzinfo=tzutc()),\n",
       "                  'description': 'All runs created without specifying an '\n",
       "                                 'experiment will be grouped here.',\n",
       "                  'id': '33146035-dd9e-4257-99a4-2e0a199e7923',\n",
       "                  'name': 'Default',\n",
       "                  'resource_references': [{'key': {'id': None,\n",
       "                                                   'type': 'NAMESPACE'},\n",
       "                                           'name': None,\n",
       "                                           'relationship': 'OWNER'}],\n",
       "                  'storage_state': 'STORAGESTATE_AVAILABLE'}],\n",
       " 'next_page_token': None,\n",
       " 'total_size': 1}"
      ]
     },
     "execution_count": 12,
     "metadata": {},
     "output_type": "execute_result"
    }
   ],
   "source": [
    "client.list_experiments()"
   ]
  },
  {
   "cell_type": "code",
   "execution_count": 13,
   "id": "9111b345-c5ed-4fdd-a620-e628325677f8",
   "metadata": {},
   "outputs": [],
   "source": [
    "from kfp.components import create_component_from_func\n",
    "from kfp.components import InputPath, OutputPath\n",
    "from typing import NamedTuple"
   ]
  },
  {
   "cell_type": "code",
   "execution_count": 5,
   "id": "6d54df04-fc57-439e-b026-c1a36002bbc0",
   "metadata": {},
   "outputs": [
    {
     "name": "stderr",
     "output_type": "stream",
     "text": [
      "\n"
     ]
    },
    {
     "name": "stdout",
     "output_type": "stream",
     "text": [
      "Requirement already satisfied: geopandas in c:\\users\\akatynsus\\pycharmprojects\\poi_project\\venv\\lib\\site-packages (0.14.0)"
     ]
    },
    {
     "name": "stderr",
     "output_type": "stream",
     "text": [
      "[notice] A new release of pip available: 22.3.1 -> 23.2.1"
     ]
    },
    {
     "name": "stdout",
     "output_type": "stream",
     "text": [
      "\n",
      "Requirement already satisfied: geopy in c:\\users\\akatynsus\\pycharmprojects\\poi_project\\venv\\lib\\site-packages (2.4.0)"
     ]
    },
    {
     "name": "stderr",
     "output_type": "stream",
     "text": [
      "\n"
     ]
    },
    {
     "name": "stdout",
     "output_type": "stream",
     "text": [
      "\n"
     ]
    },
    {
     "name": "stderr",
     "output_type": "stream",
     "text": [
      "[notice] To update, run: python.exe -m pip install --upgrade pip\n"
     ]
    },
    {
     "name": "stdout",
     "output_type": "stream",
     "text": [
      "Requirement already satisfied: osmnx in c:\\users\\akatynsus\\pycharmprojects\\poi_project\\venv\\lib\\site-packages (1.6.0)\n",
      "Requirement already satisfied: fiona>=1.8.21 in c:\\users\\akatynsus\\pycharmprojects\\poi_project\\venv\\lib\\site-packages (from geopandas) (1.9.4.post1)\n",
      "Requirement already satisfied: pyproj>=3.3.0 in c:\\users\\akatynsus\\pycharmprojects\\poi_project\\venv\\lib\\site-packages (from geopandas) (3.6.0)\n",
      "Requirement already satisfied: shapely>=1.8.0 in c:\\users\\akatynsus\\pycharmprojects\\poi_project\\venv\\lib\\site-packages (from geopandas) (2.0.1)\n",
      "Requirement already satisfied: packaging in c:\\users\\akatynsus\\pycharmprojects\\poi_project\\venv\\lib\\site-packages (from geopandas) (23.1)"
     ]
    }
   ],
   "source": [
    "!pip install geopandas geopy osmnx"
   ]
  },
  {
   "cell_type": "code",
   "execution_count": 14,
   "id": "40653173-385d-44ab-9af5-5cc53d149bdd",
   "metadata": {},
   "outputs": [],
   "source": [
    "def geocode_null_addresses(row):\n",
    "    from geopy.geocoders import Nominatim\n",
    "    geolocator = Nominatim(user_agent=\"POI_app\")\n",
    "    centroid = row[\"geometry\"].centroid\n",
    "    lat = centroid.y\n",
    "    lon = centroid.x\n",
    "\n",
    "    location = geolocator.reverse(f\"{lat}, {lon}\")\n",
    "\n",
    "    return location\n",
    "\n",
    "\n",
    "\n",
    "\n",
    "def get_city_geometry(city: str = \"Миасс, Челябинская область\"):\n",
    "    import osmnx as ox\n",
    "\n",
    "    territory = ox.geocode_to_gdf(city)\n",
    "\n",
    "    return territory\n",
    "\n",
    "\n",
    "def get_all_buildings(territory: str = \"Миасс, Челябинская область\"):\n",
    "    def get_centroid(row):\n",
    "        centroid = row[\"geometry\"].centroid\n",
    "\n",
    "        return centroid\n",
    "    import osmnx as ox\n",
    "\n",
    "    buildings = ox.geometries_from_place(territory, {\"building\": True})\n",
    "    buildings = buildings.reset_index()\n",
    "\n",
    "    buildings[\"centroid\"] = buildings.apply(get_centroid, axis=1)\n",
    "\n",
    "    buildings[\"lat\"] = buildings.centroid.y\n",
    "    buildings[\"lon\"] = buildings.centroid.x\n",
    "\n",
    "    buildings = buildings.set_crs(4326)\n",
    "    cols = [\"name\", \"geometry\", \"addr:street\", \"addr:housenumber\", \"centroid\", \"lat\", \"lon\"]\n",
    "\n",
    "    buildings_with_addresses = buildings[~buildings[\"addr:housenumber\"].isna()][cols]\n",
    "    buildings_without_addresses = buildings[buildings[\"addr:housenumber\"].isna()][cols]\n",
    "\n",
    "    print(buildings_with_addresses)\n",
    "\n",
    "    return buildings_with_addresses[[\"addr:street\", \"addr:housenumber\"]], buildings_without_addresses\n",
    "\n",
    "\n",
    "\n",
    "def geocode_buildings(buildings):\n",
    "    buildings[\"adddress\"] = buildings.apply(geocode_null_addresses, axis=1)\n",
    "\n",
    "    return geocode_buildings\n",
    "\n",
    "\n",
    "\n"
   ]
  },
  {
   "cell_type": "code",
   "execution_count": 15,
   "id": "91447df5-1cd6-4b1b-a357-7ef041e4ede1",
   "metadata": {},
   "outputs": [],
   "source": [
    "get_city_geometry_step = kfp.components.create_component_from_func(\n",
    "    func=get_city_geometry,\n",
    "    output_component_file='get_city_geometry.yaml', # This is optional. It saves the component spec for future use.\n",
    "    packages_to_install=[\"osmnx\", \"geopy\", \"geopandas\"])"
   ]
  },
  {
   "cell_type": "code",
   "execution_count": 16,
   "id": "716b521d-c8b4-456f-a068-225ae6ba843e",
   "metadata": {},
   "outputs": [],
   "source": [
    "get_all_buildings_step = kfp.components.create_component_from_func(\n",
    "    func=get_all_buildings,\n",
    "    output_component_file='get_all_buildings.yaml', # This is optional. It saves the component spec for future use.\n",
    "    packages_to_install=[\"osmnx\", \"geopy\", \"geopandas\"])"
   ]
  },
  {
   "cell_type": "code",
   "execution_count": 17,
   "id": "6a8a6d16-9bea-41de-b6dc-36461c09a2ba",
   "metadata": {},
   "outputs": [],
   "source": [
    "def get_buildings_data_pipeline():\n",
    "    get_city_geometry_task = get_city_geometry_step()\n",
    "    get_all_buildings_task = get_all_buildings_step()\n",
    "    \n",
    "\n",
    "# Компилируем пайплайн и сохраняем его в файл pipeline_with_steps.yaml, который дальше можно загрузить через ui для создания полноценного пайплайна\n",
    "kfp.compiler.Compiler().compile(get_buildings_data_pipeline, 'buildings_data_pipeline.yaml')"
   ]
  },
  {
   "cell_type": "code",
   "execution_count": 18,
   "id": "8827e60f-f5d7-4fb1-9cc7-e0e713957e76",
   "metadata": {},
   "outputs": [
    {
     "data": {
      "text/html": [
       "<a href=\"http://localhost:53462/#/experiments/details/33146035-dd9e-4257-99a4-2e0a199e7923\" target=\"_blank\" >Experiment details</a>."
      ],
      "text/plain": [
       "<IPython.core.display.HTML object>"
      ]
     },
     "metadata": {},
     "output_type": "display_data"
    },
    {
     "data": {
      "text/html": [
       "<a href=\"http://localhost:53462/#/runs/details/56fdb60a-18a7-4c9d-9777-6ef84999f8f0\" target=\"_blank\" >Run details</a>."
      ],
      "text/plain": [
       "<IPython.core.display.HTML object>"
      ]
     },
     "metadata": {},
     "output_type": "display_data"
    },
    {
     "data": {
      "text/plain": [
       "RunPipelineResult(run_id=56fdb60a-18a7-4c9d-9777-6ef84999f8f0)"
      ]
     },
     "execution_count": 18,
     "metadata": {},
     "output_type": "execute_result"
    }
   ],
   "source": [
    "client.create_run_from_pipeline_func(get_buildings_data_pipeline, arguments={})"
   ]
  },
  {
   "cell_type": "code",
   "execution_count": null,
   "id": "2c1bcaf1-86d1-4bf5-a35c-0303497dc228",
   "metadata": {},
   "outputs": [],
   "source": []
  }
 ],
 "metadata": {
  "kernelspec": {
   "display_name": "Python 3 (ipykernel)",
   "language": "python",
   "name": "python3"
  },
  "language_info": {
   "codemirror_mode": {
    "name": "ipython",
    "version": 3
   },
   "file_extension": ".py",
   "mimetype": "text/x-python",
   "name": "python",
   "nbconvert_exporter": "python",
   "pygments_lexer": "ipython3",
   "version": "3.9.13"
  }
 },
 "nbformat": 4,
 "nbformat_minor": 5
}
