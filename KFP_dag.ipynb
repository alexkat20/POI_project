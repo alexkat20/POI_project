{
 "cells": [
  {
   "cell_type": "code",
   "execution_count": 1,
   "id": "67a2b037-7d53-49d1-9a4c-0772dbcda4d0",
   "metadata": {},
   "outputs": [
    {
     "name": "stdout",
     "output_type": "stream",
     "text": [
      "Collecting kfp==1.8.22\n",
      "  Downloading kfp-1.8.22.tar.gz (304 kB)\n",
      "     -------------------------------------- 304.9/304.9 kB 1.7 MB/s eta 0:00:00\n",
      "  Preparing metadata (setup.py): started\n",
      "  Preparing metadata (setup.py): finished with status 'done'\n",
      "Collecting absl-py<2,>=0.9\n",
      "  Using cached absl_py-1.4.0-py3-none-any.whl (126 kB)\n",
      "Requirement already satisfied: PyYAML<7,>=5.3 in c:\\users\\akatynsus\\pycharmprojects\\poi_project\\venv\\lib\\site-packages (from kfp==1.8.22) (6.0.1)\n",
      "Collecting google-api-core!=2.0.*,!=2.1.*,!=2.2.*,!=2.3.0,<3.0.0dev,>=1.31.5\n",
      "  Downloading google_api_core-2.11.1-py3-none-any.whl (120 kB)\n",
      "     -------------------------------------- 120.5/120.5 kB 6.9 MB/s eta 0:00:00\n",
      "Collecting google-cloud-storage<3,>=1.20.0\n",
      "  Downloading google_cloud_storage-2.10.0-py2.py3-none-any.whl (114 kB)\n",
      "     ---------------------------------------- 114.6/114.6 kB ? eta 0:00:00\n",
      "Collecting kubernetes<26,>=8.0.0\n",
      "  Downloading kubernetes-25.3.0-py2.py3-none-any.whl (1.4 MB)\n",
      "     ---------------------------------------- 1.4/1.4 MB 8.0 MB/s eta 0:00:00\n",
      "Collecting google-api-python-client<2,>=1.7.8\n",
      "  Downloading google_api_python_client-1.12.11-py2.py3-none-any.whl (62 kB)\n",
      "     ---------------------------------------- 62.1/62.1 kB ? eta 0:00:00\n",
      "Collecting google-auth<3,>=1.6.1\n",
      "  Downloading google_auth-2.23.0-py2.py3-none-any.whl (181 kB)\n",
      "     ------------------------------------- 181.4/181.4 kB 11.4 MB/s eta 0:00:00\n",
      "Collecting requests-toolbelt<1,>=0.8.0\n",
      "  Downloading requests_toolbelt-0.10.1-py2.py3-none-any.whl (54 kB)\n",
      "     ---------------------------------------- 54.5/54.5 kB 2.8 MB/s eta 0:00:00\n",
      "Collecting cloudpickle<3,>=2.0.0\n",
      "  Using cached cloudpickle-2.2.1-py3-none-any.whl (25 kB)\n",
      "Collecting kfp-server-api<2.0.0,>=1.1.2\n",
      "  Downloading kfp-server-api-1.8.5.tar.gz (58 kB)\n",
      "     ---------------------------------------- 58.1/58.1 kB 3.0 MB/s eta 0:00:00\n",
      "  Preparing metadata (setup.py): started\n",
      "  Preparing metadata (setup.py): finished with status 'done'\n",
      "Requirement already satisfied: jsonschema<5,>=3.0.1 in c:\\users\\akatynsus\\pycharmprojects\\poi_project\\venv\\lib\\site-packages (from kfp==1.8.22) (4.19.0)\n",
      "Collecting tabulate<1,>=0.8.6\n",
      "  Using cached tabulate-0.9.0-py3-none-any.whl (35 kB)\n",
      "Requirement already satisfied: click<9,>=7.1.2 in c:\\users\\akatynsus\\pycharmprojects\\poi_project\\venv\\lib\\site-packages (from kfp==1.8.22) (8.1.7)\n",
      "Collecting Deprecated<2,>=1.2.7\n",
      "  Using cached Deprecated-1.2.14-py2.py3-none-any.whl (9.6 kB)\n",
      "Collecting strip-hints<1,>=0.1.8\n",
      "  Downloading strip-hints-0.1.10.tar.gz (29 kB)\n",
      "  Preparing metadata (setup.py): started\n",
      "  Preparing metadata (setup.py): finished with status 'done'\n",
      "Collecting docstring-parser<1,>=0.7.3\n",
      "  Downloading docstring_parser-0.15-py3-none-any.whl (36 kB)\n",
      "Collecting kfp-pipeline-spec<0.2.0,>=0.1.16\n",
      "  Downloading kfp_pipeline_spec-0.1.16-py3-none-any.whl (19 kB)\n",
      "Collecting fire<1,>=0.3.1\n",
      "  Downloading fire-0.5.0.tar.gz (88 kB)\n",
      "     ---------------------------------------- 88.3/88.3 kB 4.9 MB/s eta 0:00:00\n",
      "  Preparing metadata (setup.py): started\n",
      "  Preparing metadata (setup.py): finished with status 'done'\n",
      "Collecting protobuf<4,>=3.13.0\n",
      "  Using cached protobuf-3.20.3-cp39-cp39-win_amd64.whl (904 kB)\n",
      "Collecting uritemplate<4,>=3.0.1\n",
      "  Downloading uritemplate-3.0.1-py2.py3-none-any.whl (15 kB)\n",
      "Collecting urllib3<2\n",
      "  Using cached urllib3-1.26.16-py2.py3-none-any.whl (143 kB)\n",
      "Collecting pydantic<2,>=1.8.2\n",
      "  Using cached pydantic-1.10.12-cp39-cp39-win_amd64.whl (2.2 MB)\n",
      "Collecting typer<1.0,>=0.3.2\n",
      "  Using cached typer-0.9.0-py3-none-any.whl (45 kB)\n",
      "Requirement already satisfied: colorama in c:\\users\\akatynsus\\pycharmprojects\\poi_project\\venv\\lib\\site-packages (from click<9,>=7.1.2->kfp==1.8.22) (0.4.6)\n",
      "Collecting wrapt<2,>=1.10\n",
      "  Using cached wrapt-1.15.0-cp39-cp39-win_amd64.whl (36 kB)\n",
      "Requirement already satisfied: six in c:\\users\\akatynsus\\pycharmprojects\\poi_project\\venv\\lib\\site-packages (from fire<1,>=0.3.1->kfp==1.8.22) (1.16.0)\n",
      "Collecting termcolor\n",
      "  Using cached termcolor-2.3.0-py3-none-any.whl (6.9 kB)\n",
      "Collecting googleapis-common-protos<2.0.dev0,>=1.56.2\n",
      "  Downloading googleapis_common_protos-1.60.0-py2.py3-none-any.whl (227 kB)\n",
      "     -------------------------------------- 227.6/227.6 kB 7.0 MB/s eta 0:00:00\n",
      "Requirement already satisfied: requests<3.0.0.dev0,>=2.18.0 in c:\\users\\akatynsus\\pycharmprojects\\poi_project\\venv\\lib\\site-packages (from google-api-core!=2.0.*,!=2.1.*,!=2.2.*,!=2.3.0,<3.0.0dev,>=1.31.5->kfp==1.8.22) (2.31.0)\n",
      "Collecting httplib2<1dev,>=0.15.0\n",
      "  Downloading httplib2-0.22.0-py3-none-any.whl (96 kB)\n",
      "     ---------------------------------------- 96.9/96.9 kB 2.8 MB/s eta 0:00:00\n",
      "Collecting google-auth-httplib2>=0.0.3\n",
      "  Downloading google_auth_httplib2-0.1.1-py2.py3-none-any.whl (9.3 kB)\n",
      "Collecting rsa<5,>=3.1.4\n",
      "  Using cached rsa-4.9-py3-none-any.whl (34 kB)\n",
      "Collecting pyasn1-modules>=0.2.1\n",
      "  Using cached pyasn1_modules-0.3.0-py2.py3-none-any.whl (181 kB)\n",
      "Collecting cachetools<6.0,>=2.0.0\n",
      "  Using cached cachetools-5.3.1-py3-none-any.whl (9.3 kB)\n",
      "Collecting google-resumable-media>=2.3.2\n",
      "  Downloading google_resumable_media-2.6.0-py2.py3-none-any.whl (80 kB)\n",
      "     ---------------------------------------- 80.3/80.3 kB ? eta 0:00:00\n",
      "Collecting google-cloud-core<3.0dev,>=2.3.0\n",
      "  Downloading google_cloud_core-2.3.3-py2.py3-none-any.whl (29 kB)\n",
      "Requirement already satisfied: jsonschema-specifications>=2023.03.6 in c:\\users\\akatynsus\\pycharmprojects\\poi_project\\venv\\lib\\site-packages (from jsonschema<5,>=3.0.1->kfp==1.8.22) (2023.7.1)\n",
      "Requirement already satisfied: attrs>=22.2.0 in c:\\users\\akatynsus\\pycharmprojects\\poi_project\\venv\\lib\\site-packages (from jsonschema<5,>=3.0.1->kfp==1.8.22) (23.1.0)\n",
      "Requirement already satisfied: referencing>=0.28.4 in c:\\users\\akatynsus\\pycharmprojects\\poi_project\\venv\\lib\\site-packages (from jsonschema<5,>=3.0.1->kfp==1.8.22) (0.30.2)\n",
      "Requirement already satisfied: rpds-py>=0.7.1 in c:\\users\\akatynsus\\pycharmprojects\\poi_project\\venv\\lib\\site-packages (from jsonschema<5,>=3.0.1->kfp==1.8.22) (0.10.3)\n",
      "Requirement already satisfied: certifi in c:\\users\\akatynsus\\pycharmprojects\\poi_project\\venv\\lib\\site-packages (from kfp-server-api<2.0.0,>=1.1.2->kfp==1.8.22) (2023.7.22)\n",
      "Requirement already satisfied: python-dateutil in c:\\users\\akatynsus\\pycharmprojects\\poi_project\\venv\\lib\\site-packages (from kfp-server-api<2.0.0,>=1.1.2->kfp==1.8.22) (2.8.2)\n",
      "Requirement already satisfied: setuptools>=21.0.0 in c:\\users\\akatynsus\\pycharmprojects\\poi_project\\venv\\lib\\site-packages (from kubernetes<26,>=8.0.0->kfp==1.8.22) (65.5.1)\n",
      "Requirement already satisfied: websocket-client!=0.40.0,!=0.41.*,!=0.42.*,>=0.32.0 in c:\\users\\akatynsus\\pycharmprojects\\poi_project\\venv\\lib\\site-packages (from kubernetes<26,>=8.0.0->kfp==1.8.22) (1.6.3)\n",
      "Collecting requests-oauthlib\n",
      "  Using cached requests_oauthlib-1.3.1-py2.py3-none-any.whl (23 kB)\n",
      "Requirement already satisfied: typing-extensions>=4.2.0 in c:\\users\\akatynsus\\pycharmprojects\\poi_project\\venv\\lib\\site-packages (from pydantic<2,>=1.8.2->kfp==1.8.22) (4.8.0)\n",
      "Requirement already satisfied: wheel in c:\\users\\akatynsus\\pycharmprojects\\poi_project\\venv\\lib\\site-packages (from strip-hints<1,>=0.1.8->kfp==1.8.22) (0.38.4)\n",
      "Collecting google-crc32c<2.0dev,>=1.0\n",
      "  Downloading google_crc32c-1.5.0-cp39-cp39-win_amd64.whl (27 kB)\n",
      "Collecting pyparsing!=3.0.0,!=3.0.1,!=3.0.2,!=3.0.3,<4,>=2.4.2\n",
      "  Using cached pyparsing-3.1.1-py3-none-any.whl (103 kB)\n",
      "Collecting pyasn1<0.6.0,>=0.4.6\n",
      "  Using cached pyasn1-0.5.0-py2.py3-none-any.whl (83 kB)\n",
      "Requirement already satisfied: charset-normalizer<4,>=2 in c:\\users\\akatynsus\\pycharmprojects\\poi_project\\venv\\lib\\site-packages (from requests<3.0.0.dev0,>=2.18.0->google-api-core!=2.0.*,!=2.1.*,!=2.2.*,!=2.3.0,<3.0.0dev,>=1.31.5->kfp==1.8.22) (3.2.0)\n",
      "Requirement already satisfied: idna<4,>=2.5 in c:\\users\\akatynsus\\pycharmprojects\\poi_project\\venv\\lib\\site-packages (from requests<3.0.0.dev0,>=2.18.0->google-api-core!=2.0.*,!=2.1.*,!=2.2.*,!=2.3.0,<3.0.0dev,>=1.31.5->kfp==1.8.22) (3.4)\n",
      "Collecting oauthlib>=3.0.0\n",
      "  Using cached oauthlib-3.2.2-py3-none-any.whl (151 kB)\n",
      "Building wheels for collected packages: kfp, fire, kfp-server-api, strip-hints\n",
      "  Building wheel for kfp (setup.py): started\n",
      "  Building wheel for kfp (setup.py): finished with status 'done'\n",
      "  Created wheel for kfp: filename=kfp-1.8.22-py3-none-any.whl size=426998 sha256=ea3e958fb1f51727d7806c3a466e469902a672c1b446d7fee833712400d0f69a\n",
      "  Stored in directory: c:\\users\\akatynsus\\appdata\\local\\pip\\cache\\wheels\\94\\d5\\34\\5d9359ed9583e1807308241a87f9dd8f9a89e21deef63da655\n",
      "  Building wheel for fire (setup.py): started\n",
      "  Building wheel for fire (setup.py): finished with status 'done'\n",
      "  Created wheel for fire: filename=fire-0.5.0-py2.py3-none-any.whl size=116947 sha256=7a49ddfdffbd59da00e6d404e4e07a5c61e97eb0049808a4d63b44f1ae1d8a3b\n",
      "  Stored in directory: c:\\users\\akatynsus\\appdata\\local\\pip\\cache\\wheels\\34\\a9\\61\\d515d3cd1e8a349fed305bc67a9c7d68fc38d51053b6decad6\n",
      "  Building wheel for kfp-server-api (setup.py): started\n",
      "  Building wheel for kfp-server-api (setup.py): finished with status 'done'\n",
      "  Created wheel for kfp-server-api: filename=kfp_server_api-1.8.5-py3-none-any.whl size=99707 sha256=5de7c7859b65d89758b20851685973ec9e0dfdfbbb7e39fbf98b47e1afb80ad9\n",
      "  Stored in directory: c:\\users\\akatynsus\\appdata\\local\\pip\\cache\\wheels\\1d\\5e\\cc\\d6c7bfba9ec05cf878694715074232539159539737f01bc680\n",
      "  Building wheel for strip-hints (setup.py): started\n",
      "  Building wheel for strip-hints (setup.py): finished with status 'done'\n",
      "  Created wheel for strip-hints: filename=strip_hints-0.1.10-py2.py3-none-any.whl size=22328 sha256=5720bc6abf2c3411f9378aeb04529ae957383775facdb568b48d45227154c1dd\n",
      "  Stored in directory: c:\\users\\akatynsus\\appdata\\local\\pip\\cache\\wheels\\63\\7d\\5a\\867fa96b7d29e9dc3f26ddffe45d960690603b434081da419d\n",
      "Successfully built kfp fire kfp-server-api strip-hints\n",
      "Installing collected packages: wrapt, urllib3, uritemplate, termcolor, tabulate, strip-hints, pyparsing, pydantic, pyasn1, protobuf, oauthlib, google-crc32c, docstring-parser, cloudpickle, cachetools, absl-py, typer, rsa, pyasn1-modules, kfp-server-api, kfp-pipeline-spec, httplib2, googleapis-common-protos, google-resumable-media, fire, Deprecated, requests-toolbelt, requests-oauthlib, google-auth, kubernetes, google-auth-httplib2, google-api-core, google-cloud-core, google-api-python-client, google-cloud-storage, kfp\n",
      "  Attempting uninstall: urllib3\n",
      "    Found existing installation: urllib3 2.0.4\n",
      "    Uninstalling urllib3-2.0.4:\n",
      "      Successfully uninstalled urllib3-2.0.4\n",
      "Successfully installed Deprecated-1.2.14 absl-py-1.4.0 cachetools-5.3.1 cloudpickle-2.2.1 docstring-parser-0.15 fire-0.5.0 google-api-core-2.11.1 google-api-python-client-1.12.11 google-auth-2.23.0 google-auth-httplib2-0.1.1 google-cloud-core-2.3.3 google-cloud-storage-2.10.0 google-crc32c-1.5.0 google-resumable-media-2.6.0 googleapis-common-protos-1.60.0 httplib2-0.22.0 kfp-1.8.22 kfp-pipeline-spec-0.1.16 kfp-server-api-1.8.5 kubernetes-25.3.0 oauthlib-3.2.2 protobuf-3.20.3 pyasn1-0.5.0 pyasn1-modules-0.3.0 pydantic-1.10.12 pyparsing-3.1.1 requests-oauthlib-1.3.1 requests-toolbelt-0.10.1 rsa-4.9 strip-hints-0.1.10 tabulate-0.9.0 termcolor-2.3.0 typer-0.9.0 uritemplate-3.0.1 urllib3-1.26.16 wrapt-1.15.0\n"
     ]
    },
    {
     "name": "stderr",
     "output_type": "stream",
     "text": [
      "\n",
      "[notice] A new release of pip available: 22.3.1 -> 23.2.1\n",
      "[notice] To update, run: python.exe -m pip install --upgrade pip\n"
     ]
    }
   ],
   "source": [
    "!pip install kfp==1.8.22"
   ]
  },
  {
   "cell_type": "code",
   "execution_count": 2,
   "id": "23d586ea-e353-4f65-9d0e-99bc5067ff74",
   "metadata": {},
   "outputs": [],
   "source": [
    "import kfp\n",
    "\n",
    "\n",
    "client = kfp.Client(host=\"http://localhost:53462\")"
   ]
  },
  {
   "cell_type": "code",
   "execution_count": 3,
   "id": "23f8f24b-0bee-475a-9986-f9a8b51d80b1",
   "metadata": {},
   "outputs": [
    {
     "data": {
      "text/plain": [
       "{'experiments': [{'created_at': datetime.datetime(2023, 9, 9, 10, 52, 34, tzinfo=tzutc()),\n",
       "                  'description': 'All runs created without specifying an '\n",
       "                                 'experiment will be grouped here.',\n",
       "                  'id': '33146035-dd9e-4257-99a4-2e0a199e7923',\n",
       "                  'name': 'Default',\n",
       "                  'resource_references': [{'key': {'id': None,\n",
       "                                                   'type': 'NAMESPACE'},\n",
       "                                           'name': None,\n",
       "                                           'relationship': 'OWNER'}],\n",
       "                  'storage_state': 'STORAGESTATE_AVAILABLE'}],\n",
       " 'next_page_token': None,\n",
       " 'total_size': 1}"
      ]
     },
     "execution_count": 3,
     "metadata": {},
     "output_type": "execute_result"
    }
   ],
   "source": [
    "client.list_experiments()"
   ]
  },
  {
   "cell_type": "code",
   "execution_count": 4,
   "id": "9111b345-c5ed-4fdd-a620-e628325677f8",
   "metadata": {},
   "outputs": [],
   "source": [
    "from kfp.components import create_component_from_func\n",
    "from kfp.components import InputPath, OutputPath\n",
    "from typing import NamedTuple"
   ]
  },
  {
   "cell_type": "code",
   "execution_count": 5,
   "id": "6d54df04-fc57-439e-b026-c1a36002bbc0",
   "metadata": {},
   "outputs": [
    {
     "name": "stdout",
     "output_type": "stream",
     "text": [
      "Requirement already satisfied: geopandas in c:\\users\\akatynsus\\pycharmprojects\\poi_project\\venv\\lib\\site-packages (0.14.0)"
     ]
    },
    {
     "name": "stderr",
     "output_type": "stream",
     "text": [
      "\n",
      "[notice] A new release of pip available: 22.3.1 -> 23.2.1"
     ]
    },
    {
     "name": "stdout",
     "output_type": "stream",
     "text": [
      "\n"
     ]
    },
    {
     "name": "stderr",
     "output_type": "stream",
     "text": [
      "\n"
     ]
    },
    {
     "name": "stdout",
     "output_type": "stream",
     "text": [
      "Requirement already satisfied: geopy in c:\\users\\akatynsus\\pycharmprojects\\poi_project\\venv\\lib\\site-packages (2.4.0)"
     ]
    },
    {
     "name": "stderr",
     "output_type": "stream",
     "text": [
      "[notice] To update, run: python.exe -m pip install --upgrade pip\n"
     ]
    },
    {
     "name": "stdout",
     "output_type": "stream",
     "text": [
      "\n",
      "Collecting osmnx\n",
      "  Downloading osmnx-1.6.0-py3-none-any.whl (101 kB)\n",
      "     ------------------------------------ 101.4/101.4 kB 969.6 kB/s eta 0:00:00\n",
      "Requirement already satisfied: shapely>=1.8.0 in c:\\users\\akatynsus\\pycharmprojects\\poi_project\\venv\\lib\\site-packages (from geopandas) (2.0.1)\n",
      "Requirement already satisfied: fiona>=1.8.21 in c:\\users\\akatynsus\\pycharmprojects\\poi_project\\venv\\lib\\site-packages (from geopandas) (1.9.4.post1)\n",
      "Requirement already satisfied: pandas>=1.4.0 in c:\\users\\akatynsus\\pycharmprojects\\poi_project\\venv\\lib\\site-packages (from geopandas) (2.1.0)\n",
      "Requirement already satisfied: pyproj>=3.3.0 in c:\\users\\akatynsus\\pycharmprojects\\poi_project\\venv\\lib\\site-packages (from geopandas) (3.6.0)\n",
      "Requirement already satisfied: packaging in c:\\users\\akatynsus\\pycharmprojects\\poi_project\\venv\\lib\\site-packages (from geopandas) (23.1)\n",
      "Requirement already satisfied: geographiclib<3,>=1.52 in c:\\users\\akatynsus\\pycharmprojects\\poi_project\\venv\\lib\\site-packages (from geopy) (2.0)\n",
      "Requirement already satisfied: requests>=2.27 in c:\\users\\akatynsus\\pycharmprojects\\poi_project\\venv\\lib\\site-packages (from osmnx) (2.31.0)\n",
      "Collecting networkx>=2.5\n",
      "  Using cached networkx-3.1-py3-none-any.whl (2.1 MB)\n",
      "Requirement already satisfied: numpy>=1.20 in c:\\users\\akatynsus\\pycharmprojects\\poi_project\\venv\\lib\\site-packages (from osmnx) (1.26.0)\n",
      "Requirement already satisfied: cligj>=0.5 in c:\\users\\akatynsus\\pycharmprojects\\poi_project\\venv\\lib\\site-packages (from fiona>=1.8.21->geopandas) (0.7.2)\n",
      "Requirement already satisfied: click~=8.0 in c:\\users\\akatynsus\\pycharmprojects\\poi_project\\venv\\lib\\site-packages (from fiona>=1.8.21->geopandas) (8.1.7)\n",
      "Requirement already satisfied: attrs>=19.2.0 in c:\\users\\akatynsus\\pycharmprojects\\poi_project\\venv\\lib\\site-packages (from fiona>=1.8.21->geopandas) (23.1.0)\n",
      "Requirement already satisfied: certifi in c:\\users\\akatynsus\\pycharmprojects\\poi_project\\venv\\lib\\site-packages (from fiona>=1.8.21->geopandas) (2023.7.22)\n",
      "Requirement already satisfied: click-plugins>=1.0 in c:\\users\\akatynsus\\pycharmprojects\\poi_project\\venv\\lib\\site-packages (from fiona>=1.8.21->geopandas) (1.1.1)\n",
      "Requirement already satisfied: importlib-metadata in c:\\users\\akatynsus\\pycharmprojects\\poi_project\\venv\\lib\\site-packages (from fiona>=1.8.21->geopandas) (6.8.0)\n",
      "Requirement already satisfied: six in c:\\users\\akatynsus\\pycharmprojects\\poi_project\\venv\\lib\\site-packages (from fiona>=1.8.21->geopandas) (1.16.0)\n",
      "Requirement already satisfied: tzdata>=2022.1 in c:\\users\\akatynsus\\pycharmprojects\\poi_project\\venv\\lib\\site-packages (from pandas>=1.4.0->geopandas) (2023.3)\n",
      "Requirement already satisfied: pytz>=2020.1 in c:\\users\\akatynsus\\pycharmprojects\\poi_project\\venv\\lib\\site-packages (from pandas>=1.4.0->geopandas) (2023.3.post1)\n",
      "Requirement already satisfied: python-dateutil>=2.8.2 in c:\\users\\akatynsus\\pycharmprojects\\poi_project\\venv\\lib\\site-packages (from pandas>=1.4.0->geopandas) (2.8.2)\n",
      "Requirement already satisfied: charset-normalizer<4,>=2 in c:\\users\\akatynsus\\pycharmprojects\\poi_project\\venv\\lib\\site-packages (from requests>=2.27->osmnx) (3.2.0)\n",
      "Requirement already satisfied: urllib3<3,>=1.21.1 in c:\\users\\akatynsus\\pycharmprojects\\poi_project\\venv\\lib\\site-packages (from requests>=2.27->osmnx) (1.26.16)\n",
      "Requirement already satisfied: idna<4,>=2.5 in c:\\users\\akatynsus\\pycharmprojects\\poi_project\\venv\\lib\\site-packages (from requests>=2.27->osmnx) (3.4)\n",
      "Requirement already satisfied: colorama in c:\\users\\akatynsus\\pycharmprojects\\poi_project\\venv\\lib\\site-packages (from click~=8.0->fiona>=1.8.21->geopandas) (0.4.6)\n",
      "Requirement already satisfied: zipp>=0.5 in c:\\users\\akatynsus\\pycharmprojects\\poi_project\\venv\\lib\\site-packages (from importlib-metadata->fiona>=1.8.21->geopandas) (3.16.2)\n",
      "Installing collected packages: networkx, osmnx\n",
      "Successfully installed networkx-3.1 osmnx-1.6.0\n"
     ]
    }
   ],
   "source": [
    "!pip install geopandas geopy osmnx"
   ]
  },
  {
   "cell_type": "code",
   "execution_count": 19,
   "id": "40653173-385d-44ab-9af5-5cc53d149bdd",
   "metadata": {},
   "outputs": [],
   "source": [
    "def geocode_null_addresses(row):\n",
    "    from geopy.geocoders import Nominatim\n",
    "    geolocator = Nominatim(user_agent=\"POI_app\")\n",
    "    centroid = row[\"geometry\"].centroid\n",
    "    lat = centroid.y\n",
    "    lon = centroid.x\n",
    "\n",
    "    location = geolocator.reverse(f\"{lat}, {lon}\")\n",
    "\n",
    "    return location\n",
    "\n",
    "\n",
    "\n",
    "\n",
    "def get_city_geometry(city: str = \"Миасс, Челябинская область\"):\n",
    "    import osmnx as ox\n",
    "\n",
    "    territory = ox.geocode_to_gdf(city)\n",
    "\n",
    "    return territory\n",
    "\n",
    "\n",
    "def get_all_buildings(territory: str = \"Миасс, Челябинская область\"):\n",
    "    def get_centroid(row):\n",
    "        centroid = row[\"geometry\"].centroid\n",
    "\n",
    "        return centroid\n",
    "    import osmnx as ox\n",
    "\n",
    "    buildings = ox.geometries_from_place(territory, {\"building\": True})\n",
    "    buildings = buildings.reset_index()\n",
    "\n",
    "    buildings[\"centroid\"] = buildings.apply(get_centroid, axis=1)\n",
    "\n",
    "    buildings[\"lat\"] = buildings.centroid.y\n",
    "    buildings[\"lon\"] = buildings.centroid.x\n",
    "\n",
    "    buildings = buildings.set_crs(4326)\n",
    "    cols = [\"name\", \"geometry\", \"addr:street\", \"addr:housenumber\", \"centroid\", \"lat\", \"lon\"]\n",
    "\n",
    "    buildings_with_addresses = buildings[~buildings[\"addr:housenumber\"].isna()][cols]\n",
    "    buildings_without_addresses = buildings[buildings[\"addr:housenumber\"].isna()][cols]\n",
    "\n",
    "    print(buildings_with_addresses)\n",
    "\n",
    "    return buildings_with_addresses[[\"addr:street\", \"addr:housenumber\"]], buildings_without_addresses\n",
    "\n",
    "\n",
    "\n",
    "def geocode_buildings(buildings):\n",
    "    buildings[\"adddress\"] = buildings.apply(geocode_null_addresses, axis=1)\n",
    "\n",
    "    return geocode_buildings\n",
    "\n",
    "\n",
    "\n"
   ]
  },
  {
   "cell_type": "code",
   "execution_count": 20,
   "id": "91447df5-1cd6-4b1b-a357-7ef041e4ede1",
   "metadata": {},
   "outputs": [],
   "source": [
    "get_city_geometry_step = kfp.components.create_component_from_func(\n",
    "    func=get_city_geometry,\n",
    "    output_component_file='get_city_geometry.yaml', # This is optional. It saves the component spec for future use.\n",
    "    packages_to_install=[\"osmnx\", \"geopy\", \"geopandas\"])"
   ]
  },
  {
   "cell_type": "code",
   "execution_count": 21,
   "id": "716b521d-c8b4-456f-a068-225ae6ba843e",
   "metadata": {},
   "outputs": [],
   "source": [
    "get_all_buildings_step = kfp.components.create_component_from_func(\n",
    "    func=get_all_buildings,\n",
    "    output_component_file='get_all_buildings.yaml', # This is optional. It saves the component spec for future use.\n",
    "    packages_to_install=[\"osmnx\", \"geopy\", \"geopandas\"])"
   ]
  },
  {
   "cell_type": "code",
   "execution_count": 22,
   "id": "6a8a6d16-9bea-41de-b6dc-36461c09a2ba",
   "metadata": {},
   "outputs": [],
   "source": [
    "def get_buildings_data_pipeline():\n",
    "    get_city_geometry_task = get_city_geometry_step()\n",
    "    get_all_buildings_task = get_all_buildings_step()\n",
    "    \n",
    "\n",
    "# Компилируем пайплайн и сохраняем его в файл pipeline_with_steps.yaml, который дальше можно загрузить через ui для создания полноценного пайплайна\n",
    "kfp.compiler.Compiler().compile(get_buildings_data_pipeline, 'buildings_data_pipeline.yaml')"
   ]
  },
  {
   "cell_type": "code",
   "execution_count": 23,
   "id": "8827e60f-f5d7-4fb1-9cc7-e0e713957e76",
   "metadata": {},
   "outputs": [
    {
     "data": {
      "text/html": [
       "<a href=\"http://localhost:53462/#/experiments/details/33146035-dd9e-4257-99a4-2e0a199e7923\" target=\"_blank\" >Experiment details</a>."
      ],
      "text/plain": [
       "<IPython.core.display.HTML object>"
      ]
     },
     "metadata": {},
     "output_type": "display_data"
    },
    {
     "data": {
      "text/html": [
       "<a href=\"http://localhost:53462/#/runs/details/66c06a08-91cf-40d9-bec1-4d32d1f0a90c\" target=\"_blank\" >Run details</a>."
      ],
      "text/plain": [
       "<IPython.core.display.HTML object>"
      ]
     },
     "metadata": {},
     "output_type": "display_data"
    },
    {
     "data": {
      "text/plain": [
       "RunPipelineResult(run_id=66c06a08-91cf-40d9-bec1-4d32d1f0a90c)"
      ]
     },
     "execution_count": 23,
     "metadata": {},
     "output_type": "execute_result"
    }
   ],
   "source": [
    "client.create_run_from_pipeline_func(get_buildings_data_pipeline, arguments={})"
   ]
  },
  {
   "cell_type": "code",
   "execution_count": null,
   "id": "2c1bcaf1-86d1-4bf5-a35c-0303497dc228",
   "metadata": {},
   "outputs": [],
   "source": []
  }
 ],
 "metadata": {
  "kernelspec": {
   "display_name": "Python 3 (ipykernel)",
   "language": "python",
   "name": "python3"
  },
  "language_info": {
   "codemirror_mode": {
    "name": "ipython",
    "version": 3
   },
   "file_extension": ".py",
   "mimetype": "text/x-python",
   "name": "python",
   "nbconvert_exporter": "python",
   "pygments_lexer": "ipython3",
   "version": "3.9.13"
  }
 },
 "nbformat": 4,
 "nbformat_minor": 5
}
